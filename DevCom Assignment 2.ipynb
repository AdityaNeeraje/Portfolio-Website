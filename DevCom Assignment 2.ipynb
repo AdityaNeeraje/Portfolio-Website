{
 "cells": [
  {
   "cell_type": "code",
   "execution_count": 1,
   "id": "607dc6ff-ca9b-497c-ab89-3ed4dd554ebf",
   "metadata": {},
   "outputs": [],
   "source": [
    "import random\n",
    "import datetime\n",
    "import uuid\n",
    "\n",
    "\n",
    "\n",
    "\n",
    "# OBJECTIVES TODO:\n",
    "# 1) Read the code and understand it.\n",
    "# 2) Read the code again and understand it better.\n",
    "# 3) Feel free to do 1 and 2 however many times you feel like.\n",
    "# 4) Complete the SyncService implementation. Note that the SyncService.onMessage and SyncService.__init__ function signature must not be altered.\n"
   ]
  },
  {
   "cell_type": "code",
   "execution_count": 2,
   "id": "c9cf5da2-cb00-4f96-93bc-c211836b7e01",
   "metadata": {},
   "outputs": [],
   "source": [
    "_DATA_KEYS = [\"a\",\"b\",\"c\"]\n",
    "class Device:\n",
    "    def __init__(self, id):\n",
    "        self._id = id\n",
    "        self.records = []\n",
    "        self.sent = []\n",
    "\n",
    "\n",
    "    def obtainData(self) -> dict:\n",
    "        \"\"\"Returns a single new datapoint from the device.\n",
    "        Identified by type `record`. `timestamp` records when the record was sent and `dev_id` is the device id.\n",
    "        `data` is the data collected by the device.\"\"\"\n",
    "        if random.random() < 0.4:\n",
    "            # Sometimes there's no new data\n",
    "            return {}\n",
    "\n",
    "\n",
    "        rec = {\n",
    "            'type': 'record', 'timestamp': datetime.datetime.now().isoformat(), 'dev_id': self._id,\n",
    "            'data': {kee: str(uuid.uuid4()) for kee in _DATA_KEYS}\n",
    "        }\n",
    "        self.sent.append(rec)\n",
    "        return rec\n",
    "\n",
    "\n",
    "    def probe(self) -> dict:\n",
    "        \"\"\"Returns a probe request to be sent to the SyncService.\n",
    "        Identified by type `probe`. `from` is the index number from which the device is asking for the data.\"\"\"\n",
    "        if random.random() < 0.5:\n",
    "            # Sometimes the device forgets to probe the SyncService\n",
    "            return {}\n",
    "\n",
    "\n",
    "        return {'type': 'probe', 'dev_id': self._id, 'from': len(self.records)}\n",
    "\n",
    "\n",
    "    def onMessage(self, data: dict):\n",
    "        \"\"\"Receives updates from the server\"\"\"\n",
    "        if random.random() < 0.6:\n",
    "            # Sometimes devices make mistakes. Let's hope the SyncService handles such failures.\n",
    "            return\n",
    "       \n",
    "        if data.get('type') == 'update':\n",
    "            _from = data['from']\n",
    "            if _from > len(self.records):\n",
    "                return\n",
    "            self.records = self.records[:_from] + data['data']\n"
   ]
  },
  {
   "cell_type": "code",
   "execution_count": 3,
   "id": "2a56229d-8e19-4da2-8622-3766f458480b",
   "metadata": {},
   "outputs": [],
   "source": [
    "class SyncService:\n",
    "    def __init__(self):\n",
    "        self.records = []\n",
    "        self.max_from = 1e7\n",
    "       \n",
    "    def onMessage(self, data: dict):\n",
    "        if not data:\n",
    "            return {'type':'update', 'data': [], 'from': self.max_from}\n",
    "        if data.get('type') == 'record':\n",
    "            self.records.append(data)\n",
    "            self.max_from = max(self.max_from, len(self.records) + 1000)\n",
    "            return\n",
    "        if data.get('type') == 'probe':\n",
    "            rec = {'type': 'update', 'data': self.records[data.get('from'):], 'from': data.get('from')}\n",
    "            return rec\n",
    "            \n",
    "        \"\"\"Handle messages received from devices.\n",
    "        Return the desired information in the correct format (type `update`, see Device.onMessage and testSyncing to understand format intricacies) in response to a `probe`.\n",
    "        No return value required on handling a `record`.\"\"\"\n",
    "        raise NotImplementedError()\n"
   ]
  },
  {
   "cell_type": "code",
   "execution_count": 11,
   "id": "5f7ab392-5075-4d89-a753-23c62b1aca26",
   "metadata": {},
   "outputs": [],
   "source": [
    "def testSyncing():\n",
    "    devices = [Device(f\"dev_{i}\") for i in range(10)]\n",
    "    syn = SyncService()\n",
    "   \n",
    "    _N = int(1e6)\n",
    "    for i in range(_N):\n",
    "        for _dev in devices:\n",
    "            syn.onMessage(_dev.obtainData())\n",
    "            _dev.onMessage(syn.onMessage(_dev.probe()))\n",
    "\n",
    "\n",
    "    done = False\n",
    "    while not done:\n",
    "        for _dev in devices:\n",
    "            _dev.onMessage(syn.onMessage(_dev.probe()))\n",
    "        num_recs = len(devices[0].records)\n",
    "        done = all([len(_dev.records) == num_recs for _dev in devices])\n",
    "\n",
    "\n",
    "    ver_start = [0] * len(devices)\n",
    "    for i,rec in enumerate(devices[0].records):\n",
    "        _dev_idx = int(rec['dev_id'].split(\"_\")[-1])\n",
    "        assertEquivalent(rec, devices[_dev_idx].sent[ver_start[_dev_idx]])\n",
    "        for _dev in devices[1:]:\n",
    "            assertEquivalent(rec, _dev.records[i])\n",
    "        ver_start[_dev_idx] += 1"
   ]
  },
  {
   "cell_type": "code",
   "execution_count": 9,
   "id": "9071806f-3b20-4371-a8a0-bfffc6ab76db",
   "metadata": {},
   "outputs": [],
   "source": [
    "def assertEquivalent(d1:dict, d2:dict):\n",
    "    assert d1['dev_id'] == d2['dev_id']\n",
    "    assert d1['timestamp'] == d2['timestamp']\n",
    "    for kee in _DATA_KEYS:\n",
    "        assert d1['data'][kee] == d2['data'][kee]"
   ]
  },
  {
   "cell_type": "code",
   "execution_count": 10,
   "id": "1cc159aa-3952-43df-a918-de159c8fc617",
   "metadata": {},
   "outputs": [],
   "source": [
    "testSyncing()"
   ]
  },
  {
   "cell_type": "code",
   "execution_count": null,
   "id": "175b7153-b3f7-481b-9e39-f43a3ba76d34",
   "metadata": {},
   "outputs": [],
   "source": []
  }
 ],
 "metadata": {
  "kernelspec": {
   "display_name": "Python 3 (ipykernel)",
   "language": "python",
   "name": "python3"
  },
  "language_info": {
   "codemirror_mode": {
    "name": "ipython",
    "version": 3
   },
   "file_extension": ".py",
   "mimetype": "text/x-python",
   "name": "python",
   "nbconvert_exporter": "python",
   "pygments_lexer": "ipython3",
   "version": "3.10.12"
  }
 },
 "nbformat": 4,
 "nbformat_minor": 5
}
